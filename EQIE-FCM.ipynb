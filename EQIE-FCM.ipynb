{
 "cells": [
  {
   "cell_type": "code",
   "execution_count": 7,
   "metadata": {
    "collapsed": true
   },
   "outputs": [],
   "source": [
    "from sklearn import datasets\n",
    "import numpy as np\n",
    "import random\n",
    "%matplotlib inline"
   ]
  },
  {
   "cell_type": "code",
   "execution_count": 8,
   "metadata": {
    "collapsed": true
   },
   "outputs": [],
   "source": [
    "iris = datasets.load_iris()\n",
    "X = iris.data\n",
    "y = iris.target"
   ]
  },
  {
   "cell_type": "code",
   "execution_count": 144,
   "metadata": {
    "collapsed": true
   },
   "outputs": [],
   "source": [
    "N = X.shape[0]\n",
    "F = X.shape[1]\n",
    "epsilon = 0.01\n",
    "m = 2\n",
    "c_min = 2 \n",
    "c_max = 3\n",
    "C = [i for i in range(c_min, c_max+1)]\n",
    "np.set_printoptions(formatter={'float': lambda x: \"{0:0.3f}\".format(x)})"
   ]
  },
  {
   "cell_type": "code",
   "execution_count": 168,
   "metadata": {
    "collapsed": true
   },
   "outputs": [],
   "source": [
    "def checkMembershipCondition(U):\n",
    "    return len(U.sum(axis=1)==1)==N;\n",
    "\n",
    "def evaluateTerminationCriterion(V, U, X, m):\n",
    "    norm_vals = np.zeros((U.shape[0], U.shape[1]))\n",
    "    for i in range(len(V)):\n",
    "        norm_vals[:,i] = np.power(np.linalg.norm(X-V[i], axis=1), 2)\n",
    "    \n",
    "    fitness_val = (np.power(U,m)*norm_vals).sum()\n",
    "    return fitness_val;\n",
    "\n",
    "def FCM(V_c_i_initial,N,c,m):\n",
    "    exp_val = -2/(m-1)\n",
    "    V = np.copy(V_c_i_initial)\n",
    "    U = np.zeros((N,c))\n",
    "    iter = 0\n",
    "    condition = True\n",
    "    J_n = 1000\n",
    "    \n",
    "    while(condition and iter<100):\n",
    "        iter+=1        \n",
    "        for i in range(len(V)):\n",
    "            U[:,i] = np.power(np.linalg.norm(X-V[i],axis=1), exp_val)\n",
    "        U = U/U.sum(axis=1).reshape(150,-1)\n",
    "        \n",
    "        V = []\n",
    "        for i in range(c):\n",
    "            col = np.power(U[:,i], m)\n",
    "            v_i = (col.reshape(N,-1)*X).sum(axis=0)/col.sum()\n",
    "            V.append(v_i)\n",
    "        V = np.array(V)\n",
    "        \n",
    "        J_n1 = evaluateTerminationCriterion(V,U,X,m)\n",
    "        condition = (abs(J_n - J_n1) > epsilon) #end when J changes less than 0.001        \n",
    "        J_n = np.copy(J_n1)\n",
    "    \n",
    "    #print('Iterations count for C[i]=',c,'is: ', iter)\n",
    "    count.append(iter)\n",
    "    return U, V;"
   ]
  },
  {
   "cell_type": "code",
   "execution_count": 142,
   "metadata": {
    "collapsed": true
   },
   "outputs": [],
   "source": [
    "def getDispersion(c,X,V):\n",
    "    N = X.shape[0]\n",
    "    F = X.shape[1]\n",
    "    coeff_variation = X.std(axis=0)/X.mean(axis=0)\n",
    "\n",
    "    cluster_wise_std = np.zeros((c,F))\n",
    "    for i in range(len(V)):\n",
    "        cluster_wise_std[i,:] = np.power(np.power(X-V[i],2).sum(axis=0)/N, 0.5)\n",
    "\n",
    "    cluster_wise_coeff_variation = cluster_wise_std/V\n",
    "\n",
    "    Dispersion = cluster_wise_coeff_variation.max()/coeff_variation.max() \n",
    "    return Dispersion;\n",
    "\n",
    "def getSeparation(c, U):\n",
    "    similarity_matrix = np.zeros((c, c))\n",
    "    for i in range(c):\n",
    "        for j in range(i+1,c):\n",
    "            similarity_matrix[i,j] = np.minimum(U[:,i], U[:,j]).max()\n",
    "            similarity_matrix[j,i] = np.copy(similarity_matrix[i,j])\n",
    "\n",
    "    separation_measure = 1 - similarity_matrix\n",
    "    overall_separation = separation_measure.min()\n",
    "    return overall_separation;\n",
    "\n",
    "def getOverlap(c, U):\n",
    "    N = U.shape[0]\n",
    "    overlap_matrix = np.zeros((c, c))\n",
    "    for i in range(c):\n",
    "        for j in range(i+1,c):\n",
    "            dom_min = np.minimum(U[:,i],U[:,j])\n",
    "            dom_max = np.maximum(U[:,i],U[:,j])\n",
    "            pt_wise_overlap = np.zeros((N,1))\n",
    "\n",
    "            for k in range(len(dom_min)):\n",
    "                if(dom_min[k]!=0 and dom_max[k]!=1):\n",
    "                    if(dom_max[k]>0.5):\n",
    "                        pt_wise_overlap[k] = 0.9*(1-dom_max[k])*2\n",
    "                    elif(dom_max[k]):#>=0.1    \n",
    "                        pt_wise_overlap[k] = 1\n",
    "\n",
    "            overlap_matrix[i,j] = pt_wise_overlap.sum()\n",
    "            overlap_matrix[j,i] = np.copy(overlap_matrix[i,j])\n",
    "    \n",
    "    total_overlap = overlap_matrix.max()\n",
    "    return total_overlap;\n",
    "\n",
    "def getVI_DSO_Row(dispersion_row, separation_row, overlap_row):\n",
    "    dispersion_row = np.array(dispersion_row)    \n",
    "    separation_row = np.array(separation_row)\n",
    "    overlap_row = np.array(overlap_row)\n",
    "\n",
    "    dispersion_row_normalized = dispersion_row/dispersion_row.max()\n",
    "    separation_row_normalized = separation_row/separation_row.max()\n",
    "    overlap_row_normalized = overlap_row/overlap_row.max()\n",
    "    \n",
    "    VI_dso_row = (dispersion_row_normalized + overlap_row_normalized)/separation_row_normalized\n",
    "    return VI_dso_row/VI_dso_row.max()"
   ]
  },
  {
   "cell_type": "code",
   "execution_count": 73,
   "metadata": {},
   "outputs": [],
   "source": [
    "def initialize_V_best(C, F):\n",
    "    v_initial = []\n",
    "    for i in range(len(C)):\n",
    "        v_initial.append([])\n",
    "        for j in range(C[i]):\n",
    "            v_initial[i].append([0 for k in range(F)])    \n",
    "    return v_initial\n",
    "\n",
    "def initializeQBitsForAll_C_Centroids(q_bits, C):\n",
    "    Q_g_matrix = []\n",
    "    s_g_matrix = []\n",
    "    \n",
    "    Q, s = initializeQAndBinaryBits(q_bits)\n",
    "    for i in range(len(C)):\n",
    "        V_c_q_bits = []\n",
    "        V_c_s_bits = []\n",
    "        for j in range(C[i]):\n",
    "            V_c_q_bits.append(np.array([np.copy(Q) for k in range(F)]))\n",
    "            V_c_s_bits.append(np.array([np.copy(s) for k in range(F)]))\n",
    "        Q_g_matrix.append(V_c_q_bits)\n",
    "        s_g_matrix.append(V_c_s_bits)\n",
    "    return Q_g_matrix, s_g_matrix\n",
    "\n",
    "def callObservationProcessOnClusterCentroidQMatrix(Q_g_matrix, V_c_s_matrix, q_bits, X):\n",
    "    V_val_matrix = []\n",
    "    for i in range(len(Q_g_matrix)):\n",
    "        V_C_g = []\n",
    "        V_val_matrix.append([])\n",
    "        for j in range(len(Q_g_matrix[i])):\n",
    "            V_C_i_g = Q_g_matrix[i][j]\n",
    "            V_val_matrix[i].append([])\n",
    "            for dim in range(len(V_C_i_g)):\n",
    "                val, s_g = observationProcess(V_C_i_g[dim], q_bits, [X[:,dim].min(), X[:,dim].max()])\n",
    "                V_val_matrix[i][j].append(val)\n",
    "                V_c_s_matrix[i][j][dim] = s_g\n",
    "    return V_val_matrix; \n",
    "\n",
    "def callUpdateOnClusterCentroidMatrix(Q_g_matrix, F_g_best_C_row, F_g_C, V_c_s_global_matrix, V_c_s_matrix):\n",
    "    for i in range(len(Q_g_matrix)):\n",
    "        #V_C_g\n",
    "        for j in range(len(Q_g_matrix[i])):\n",
    "            V_C_i_g = Q_g_matrix[i][j]\n",
    "            for dim in range(len(V_C_i_g)):\n",
    "                updateQBits(V_C_i_g[dim], F_g_best_C_row[i], F_g_C[i], V_c_s_global_matrix[i][j][dim], V_c_s_matrix[i][j][dim])\n",
    "    return"
   ]
  },
  {
   "cell_type": "code",
   "execution_count": 165,
   "metadata": {},
   "outputs": [],
   "source": [
    "def getOptimalClusterNumber(m):\n",
    "    C = [i for i in range(c_min, c_max+1)]\n",
    "    q_bits = 2\n",
    "    V_c_q_matrix, V_c_s_matrix = initializeQBitsForAll_C_Centroids(q_bits, C)\n",
    "    V_c_s_global_matrix = np.copy(V_c_s_matrix)\n",
    "    F_g_best_C_row = [1000 for i in range(len(C))]\n",
    "    F_l_best_C_row = [0 for i in range(len(C))]\n",
    "    max_generations_for_v_initial = 1\n",
    "    g = 1\n",
    "\n",
    "    V_initial_best = initialize_V_best(C, F)\n",
    "    \n",
    "    while(g<=max_generations_for_v_initial):\n",
    "        V_g = []\n",
    "        F_g_C = []\n",
    "        dispersion_row = []\n",
    "        separation_row = []\n",
    "        overlap_row = []\n",
    "        V_val_matrix = callObservationProcessOnClusterCentroidQMatrix(V_c_q_matrix, V_c_s_matrix, q_bits, X)\n",
    "\n",
    "        for i in range(len(C)):\n",
    "            V_c_i_initial = np.array(V_val_matrix[i])\n",
    "            U_ci, V_ci = FCM(V_c_i_initial, N, C[i], m)\n",
    "     \n",
    "            dispersion_row.append(getDispersion(C[i],X,V_ci))\n",
    "            separation_row.append(getSeparation(C[i], U_ci))\n",
    "            overlap_row.append(getOverlap(C[i], U_ci))\n",
    "        \n",
    "        F_g_C = getVI_DSO_Row(dispersion_row, separation_row, overlap_row)\n",
    "        callUpdateOnClusterCentroidMatrix(V_c_q_matrix, F_g_best_C_row, F_g_C, V_c_s_global_matrix, V_c_s_matrix)\n",
    "        \n",
    "        for i in range(len(C)):\n",
    "            if(F_g_C[i]<=F_g_best_C_row[i]):\n",
    "                F_g_best_C_row[i] = np.copy(F_g_C[i])\n",
    "                V_c_s_global_matrix[i] = np.copy(V_c_s_matrix[i])\n",
    "                V_initial_best[i] = np.copy(V_val_matrix[i])\n",
    "        g+=1\n",
    "        \n",
    "    F_g_best_C_row = np.array(F_g_best_C_row)\n",
    "    VI_dso_min = F_g_best_C_row.min()\n",
    "    \n",
    "    index = F_g_best_C_row.argmin()\n",
    "    optimal_clusters = C[index]\n",
    "    V_best = V_initial_best[index]\n",
    "    #print('Optimal Clusters:',optimal_clusters)\n",
    "    #print('V_initial_best :',V_initial_best)\n",
    "    return VI_dso_min, optimal_clusters, V_best"
   ]
  },
  {
   "cell_type": "code",
   "execution_count": 154,
   "metadata": {},
   "outputs": [],
   "source": [
    "VI_dso_min, optimal_clusters, V_best = getOptimalClusterNumber(1.523) #1.529"
   ]
  },
  {
   "cell_type": "code",
   "execution_count": 27,
   "metadata": {
    "collapsed": true
   },
   "outputs": [],
   "source": [
    "import math\n",
    "\n",
    "def observationProcess(Q_g, q_bits, m_range):\n",
    "    link = 0\n",
    "    r_g = [random.random() for i in range(q_bits)]\n",
    "    incr = (m_range[1]-m_range[0])/np.power(2,q_bits)\n",
    "    sub_spaces = [m_range[0]+(i*incr) for i in range(np.power(2,q_bits)+1)]\n",
    "    \n",
    "    s_g = (r_g<=np.power(Q_g,2)).astype(int)\n",
    "    bin_str = ''.join(s_g.astype(str))\n",
    "    link = int(bin_str, 2)+1\n",
    "\n",
    "    selected_sub_space = [sub_spaces[link-1], sub_spaces[link]]\n",
    "    #count_subspaces.append(link)\n",
    "\n",
    "    mean_g = (selected_sub_space[0]+selected_sub_space[1])/2\n",
    "\n",
    "    std_dev_g = (selected_sub_space[1]-mean_g)/4 # so that sub space is covered in -4std to 4std\n",
    "    m_g = np.random.normal(mean_g, std_dev_g, 1)[0]\n",
    "    return m_g, s_g;\n",
    "\n",
    "def getUpdatedQBit(alpha_i, delta_theta):\n",
    "    updated_val = (alpha_i*math.cos(delta_theta)) - (np.power(1-np.power(alpha_i,2), 0.5)*math.sin(delta_theta))\n",
    "    \n",
    "    if(updated_val < np.power(epsilon,0.5)):\n",
    "        updated_val = np.power(epsilon,0.5)\n",
    "    elif(updated_val > np.power(1-epsilon,0.5)):\n",
    "        updated_val = np.power(1-epsilon,0.5)\n",
    "    \n",
    "    return updated_val;\n",
    "\n",
    "def updateQBits(Q_g, F_g_best, F_l_best, s_global, s_g):\n",
    "    if(F_g_best>F_l_best):\n",
    "        for i in range(len(s_global)):\n",
    "            if(s_g[i]==1 and s_global[i]==0):\n",
    "                delta_theta = 0.03 * math.pi #reduces Q bit value\n",
    "            else:\n",
    "                delta_theta = 0\n",
    "            Q_g[i] = getUpdatedQBit(Q_g[i], delta_theta)    \n",
    "    else:\n",
    "        for i in range(len(s_global)):\n",
    "            if(s_g[i]==0 and s_global[i]==1):\n",
    "                delta_theta = -0.03 * math.pi #Increases Q bit value\n",
    "            else:\n",
    "                delta_theta = 0\n",
    "            Q_g[i] = getUpdatedQBit(Q_g[i], delta_theta)    \n",
    "    return Q_g\n",
    "\n",
    "def initializeQAndBinaryBits(q_bits):\n",
    "    Q_g = np.array([np.power(q_bits, -0.5) for i in range(q_bits)])\n",
    "    s_g = np.array([0 for i in range(q_bits)])\n",
    "    return Q_g, s_g"
   ]
  },
  {
   "cell_type": "code",
   "execution_count": 44,
   "metadata": {
    "collapsed": true
   },
   "outputs": [],
   "source": []
  },
  {
   "cell_type": "code",
   "execution_count": 173,
   "metadata": {
    "collapsed": true
   },
   "outputs": [],
   "source": [
    "def EQIE_FCM():\n",
    "    m_range = [1.5, 2.5]\n",
    "    q_bits = 2\n",
    "    Q_m_g, s_m_global = initializeQAndBinaryBits(q_bits)\n",
    "    F_g_best = 1000\n",
    "    F_l_best = 0\n",
    "    max_generations_for_m = 500\n",
    "    g = 1\n",
    "    \n",
    "    while(g<=max_generations_for_m):\n",
    "        m_g, s_g = observationProcess(Q_m_g, q_bits, m_range)\n",
    "        VI_dso_min, optimal_clusters, V_initial_best = getOptimalClusterNumber(m_g)\n",
    "        F_l_best = VI_dso_min\n",
    "        #xyz.append(F_l_best)\n",
    "        local_best_params = [np.copy(m_g), np.copy(optimal_clusters)]\n",
    "\n",
    "        updateQBits(Q_m_g, F_g_best, F_l_best, s_m_global, s_g)\n",
    "\n",
    "        if(F_g_best > F_l_best):\n",
    "            global_best_params = np.copy(local_best_params)\n",
    "            F_g_best = np.copy(F_l_best)\n",
    "            s_m_global = np.copy(s_g)\n",
    "        g+=1\n",
    "        \n",
    "    return global_best_params;    "
   ]
  },
  {
   "cell_type": "code",
   "execution_count": 174,
   "metadata": {},
   "outputs": [],
   "source": [
    "count = []\n",
    "global_best_params = EQIE_FCM()"
   ]
  },
  {
   "cell_type": "code",
   "execution_count": 175,
   "metadata": {},
   "outputs": [
    {
     "data": {
      "text/plain": [
       "array([1.525, 2.000])"
      ]
     },
     "execution_count": 175,
     "metadata": {},
     "output_type": "execute_result"
    }
   ],
   "source": [
    "global_best_params"
   ]
  },
  {
   "cell_type": "code",
   "execution_count": 176,
   "metadata": {},
   "outputs": [
    {
     "data": {
      "text/plain": [
       "8198"
      ]
     },
     "execution_count": 176,
     "metadata": {},
     "output_type": "execute_result"
    }
   ],
   "source": [
    "np.array(count).sum()"
   ]
  },
  {
   "cell_type": "code",
   "execution_count": null,
   "metadata": {
    "collapsed": true
   },
   "outputs": [],
   "source": []
  }
 ],
 "metadata": {
  "kernelspec": {
   "display_name": "Python 3",
   "language": "python",
   "name": "python3"
  },
  "language_info": {
   "codemirror_mode": {
    "name": "ipython",
    "version": 3
   },
   "file_extension": ".py",
   "mimetype": "text/x-python",
   "name": "python",
   "nbconvert_exporter": "python",
   "pygments_lexer": "ipython3",
   "version": "3.6.1"
  }
 },
 "nbformat": 4,
 "nbformat_minor": 2
}
